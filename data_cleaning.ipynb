{
 "cells": [
  {
   "cell_type": "code",
   "execution_count": 9,
   "metadata": {},
   "outputs": [
    {
     "ename": "ImportError",
     "evalue": "cannot import name 'content_preparator' from 'services' (/home/godwin/Desktop/Organised/python/python/ML_project_regression/.venv/lib/python3.9/site-packages/services/__init__.py)",
     "output_type": "error",
     "traceback": [
      "\u001b[0;31m---------------------------------------------------------------------------\u001b[0m",
      "\u001b[0;31mImportError\u001b[0m                               Traceback (most recent call last)",
      "\u001b[0;32m/tmp/ipykernel_56532/3732664523.py\u001b[0m in \u001b[0;36m<module>\u001b[0;34m\u001b[0m\n\u001b[1;32m      4\u001b[0m \u001b[0;32mfrom\u001b[0m \u001b[0mlangchain_openai\u001b[0m\u001b[0;34m.\u001b[0m\u001b[0membeddings\u001b[0m \u001b[0;32mimport\u001b[0m \u001b[0mOpenAIEmbeddings\u001b[0m\u001b[0;34m\u001b[0m\u001b[0;34m\u001b[0m\u001b[0m\n\u001b[1;32m      5\u001b[0m \u001b[0;34m\u001b[0m\u001b[0m\n\u001b[0;32m----> 6\u001b[0;31m \u001b[0;32mfrom\u001b[0m \u001b[0mservices\u001b[0m \u001b[0;32mimport\u001b[0m \u001b[0mcontent_preparator\u001b[0m \u001b[0;32mas\u001b[0m \u001b[0mchunker\u001b[0m\u001b[0;34m\u001b[0m\u001b[0;34m\u001b[0m\u001b[0m\n\u001b[0m",
      "\u001b[0;31mImportError\u001b[0m: cannot import name 'content_preparator' from 'services' (/home/godwin/Desktop/Organised/python/python/ML_project_regression/.venv/lib/python3.9/site-packages/services/__init__.py)"
     ]
    }
   ],
   "source": [
    "from langchain_community.document_loaders import PyPDFLoader, TextLoader\n",
    "from langchain.embeddings.sentence_transformer import SentenceTransformerEmbeddings\n",
    "from langchain_experimental.text_splitter import SemanticChunker\n",
    "from langchain_openai.embeddings import OpenAIEmbeddings\n",
    "\n",
    "from services import content_preparator as chunker"
   ]
  },
  {
   "cell_type": "code",
   "execution_count": 7,
   "metadata": {},
   "outputs": [
    {
     "name": "stdout",
     "output_type": "stream",
     "text": [
      "\n",
      "Profession : sans\n",
      "Taille: 158\n",
      "G : 3 P : 2 \n",
      "Sérologie :\n",
      "/RAI:\tRub +; Toxo -(09/16); CMV: +; \n",
      "Ag HBs nég/Ac nég/ anti-core nég (04/16);  HbC-(04/16); Syph -(04/16); HIV -(04/16); Chlamydia -;\n",
      "Agglu irr. - (08/16);  \n",
      "\n",
      "Ménarche: 12\n",
      "Règles: +- réguliers  \n",
      "Antécédents obstétricaux : 21/03/07: 39w6C/S pour SFA F2810g Alyena AM\n",
      "2010: accht eutocique \n",
      "Antécédents médicaux : \n",
      "gastrite\n",
      "Risques : 1 Césarienne dans antécédents\n",
      "Fibrinogène: 2.86 ( 12/08/16) \n",
      "\n",
      "Grossesses antérieures : \n",
      "\n",
      "Grossesse n° 1 \tsuivie par: Dr. Alain Claudot \taccouchée par: Dr. A. Loos  \n",
      "Terme prévu: 22/03/2007 \tFin de grossesse le 21/03/2007 à 39 s. 6 j. \n",
      "Résumé de la grossesse:\n",
      "rhogam 10/11 sur métro, refait le 5/1, Anémie sidéroprive, traitée par supplément martial  \n",
      "Accouchement: Présentation: céphalique \n",
      "Motif d'entrée: Rupture prématurée des membranes avec entrée en travail spontané dans les 24 heures  \n",
      "Travail: optimalisé en salle de travail par perfusion de syntocinon® rupture spontanée des membranes laissant s'écouler un liquide amniotique clair, à 1 cm  Anesthésie: 8h45: Péridurale de confort Médications: Buscopan !!!réaction +++\n",
      "Périnée: Intact \n",
      "Suites de couches:\n",
      "Pathologie post-partum: Infection urinaire à E Coli, trt Clamoxyl, anémie Hb 11.2 \n",
      "Gamma-globulines: reçues \n",
      "Allaitement: maternel \n",
      "Enfant(s):\n",
      "• Alyena AVCI Sexe: Féminin\n",
      " Monitoring foetal: Cl 3, UCL Terminaison: Césarienne en urgence pour souffrance foetale, Cordon: Bretelle, Délivrance: Délivrance manuelle, Révision utérine,  \n",
      "poids: 2810, Taille: 49 PC: 33  Apgar: 9/10/10\n",
      "Groupe sanguin: Rhésus D positif\n",
      "Pathologie néo-natale: aucune apparente\n"
     ]
    }
   ],
   "source": [
    "loader = TextLoader(\"lettre_1.txt\")\n",
    "pages = loader.load_and_split()\n",
    "\n",
    "unify_content = \"\"\n",
    "for page in pages:\n",
    "    unify_content += \"\\n\" + page.page_content\n",
    "\n",
    "print(unify_content)"
   ]
  },
  {
   "cell_type": "code",
   "execution_count": 5,
   "metadata": {},
   "outputs": [],
   "source": [
    "# recursive_splitter = chunker.recursive_splitter(chunk_size=512,overlap=20)\n",
    "\n",
    "## For this method we need to define an embedder\n",
    "embedder = SentenceTransformerEmbeddings(model_name=\"all-MiniLM-L6-v2\")\n",
    "semantic_splitter = chunker.semantic_chunker(embedder)\n",
    "semantic_splitter_openai = chunker.semantic_chunker(OpenAIEmbeddings())"
   ]
  },
  {
   "cell_type": "code",
   "execution_count": null,
   "metadata": {},
   "outputs": [],
   "source": [
    "semantic_splited_chunks = semantic_splitter.create_documents([unify_content])\n"
   ]
  }
 ],
 "metadata": {
  "kernelspec": {
   "display_name": "Python 3",
   "language": "python",
   "name": "python3"
  },
  "language_info": {
   "codemirror_mode": {
    "name": "ipython",
    "version": 3
   },
   "file_extension": ".py",
   "mimetype": "text/x-python",
   "name": "python",
   "nbconvert_exporter": "python",
   "pygments_lexer": "ipython3",
   "version": "3.9.18"
  }
 },
 "nbformat": 4,
 "nbformat_minor": 2
}
