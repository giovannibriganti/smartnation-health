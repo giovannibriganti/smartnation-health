{
 "cells": [
  {
   "cell_type": "code",
   "execution_count": 3,
   "metadata": {},
   "outputs": [],
   "source": [
    "from langchain_community.document_loaders import (\n",
    "    PyPDFLoader,\n",
    "    TextLoader,\n",
    "    UnstructuredHTMLLoader,\n",
    "    JSONLoader,\n",
    "    UnstructuredMarkdownLoader,\n",
    ")\n",
    "from langchain.embeddings.sentence_transformer import SentenceTransformerEmbeddings\n",
    "\n",
    "from langchain_experimental.text_splitter import SemanticChunker\n",
    "from langchain_openai.embeddings import OpenAIEmbeddings\n",
    "from langchain.text_splitter import RecursiveCharacterTextSplitter"
   ]
  },
  {
   "cell_type": "code",
   "execution_count": 13,
   "metadata": {},
   "outputs": [
    {
     "name": "stderr",
     "output_type": "stream",
     "text": [
      "No sentence-transformers model found with name dangvantuan/sentence-camembert-large. Creating a new one with MEAN pooling.\n"
     ]
    }
   ],
   "source": [
    "def accept_document_return_chunks(document: str):\n",
    "\n",
    "    if document.split(\".\")[-1] == \"pdf\":\n",
    "        loader = PyPDFLoader(document)\n",
    "    elif document.split(\".\")[-1] == \"txt\":\n",
    "        loader = TextLoader(document)\n",
    "    elif document.split(\".\")[-1] == \"json\":\n",
    "        loader = JSONLoader(document)\n",
    "    elif document.split(\".\")[-1] == \"html\":\n",
    "        loader = UnstructuredHTMLLoader(document)\n",
    "    elif document.split(\".\")[-1] == \"md\":\n",
    "        loader = UnstructuredMarkdownLoader(document)\n",
    "    else:\n",
    "        raise ValueError(\"File type not supported\")\n",
    "\n",
    "    pages = loader.load_and_split()\n",
    "\n",
    "    unify_content = \"\"\n",
    "    for page in pages:\n",
    "        unify_content += \"\\n\" + page.page_content\n",
    "\n",
    "    embedder = SentenceTransformerEmbeddings(\n",
    "        model_name=\"dangvantuan/sentence-camembert-large\",\n",
    "    )\n",
    "\n",
    "    semantic_splitter = SemanticChunker(embedder)\n",
    "\n",
    "    docs = semantic_splitter.create_documents([unify_content])\n",
    "\n",
    "    text_splitter = RecursiveCharacterTextSplitter(\n",
    "        # Set a really small chunk size, just to show.\n",
    "        chunk_size=500,\n",
    "        chunk_overlap=20,\n",
    "        length_function=len,\n",
    "        is_separator_regex=False,\n",
    "    )\n",
    "\n",
    "    docs2 = text_splitter.create_documents([unify_content])\n",
    "\n",
    "    return docs, docs2\n",
    "\n",
    "\n",
    "data = accept_document_return_chunks(\"lettre_6.txt\")"
   ]
  },
  {
   "cell_type": "code",
   "execution_count": 14,
   "metadata": {},
   "outputs": [
    {
     "data": {
      "text/plain": [
       "[Document(page_content='\\nGROSSESSE EN COURS: 3 ° grossesse, suivie par Dr CLAUDOT Alain\\n\\nDDR : 11/02/2016, ovulation: 4/03/2016,\\nterme calculé: 17/11/2016, terme corrigé: 25/11/2016 \\nTabac: non, Alcool: non, Toxicomanie: non, Antécédent de césarienne: non\\nObésité: oui si BMI >= 30; valeur du BMI: 24.4 \\nDépistage diabète gestationnel : 85; OGTT normal\\nEcouvillon vaginal : 31/5: strepto +\\tkiné prénatale :non\\nrisque biologique trisomie 21: 1/1007, risque intégré de Tri 21: 1/4060 risque biologique trisomie 18: <1/10000 Risque NTD: <1/10000\\nPhénotype Rhésus Foetal par PCR: Rh D positif, Chrom Y positif  \\n\\nExamen bassin : \\n\\n\\nrésumé de la grossesse:\\nPoids de départ: 61, Taille: 158, soit un BMI à 24.4,\\n{SEROLOGIE POSITIVE pour {HIV|Hépatite B|Hépatite C|@}\\n}Donné Rhogam prophylactique 28 sem, Boostrix injecté vers 24-32 sem, \\n\\nconduite à tenir :\\n \\n{Assurance hospitalisation: non \\n}{Suivi Tabacologue: non\\n}{Reconnaissance anticipée (état civil: Mariée): non faite}')]"
      ]
     },
     "execution_count": 14,
     "metadata": {},
     "output_type": "execute_result"
    }
   ],
   "source": [
    "data[0]"
   ]
  },
  {
   "cell_type": "code",
   "execution_count": 15,
   "metadata": {},
   "outputs": [
    {
     "data": {
      "text/plain": [
       "[Document(page_content='GROSSESSE EN COURS: 3 ° grossesse, suivie par Dr CLAUDOT Alain'),\n",
       " Document(page_content='DDR : 11/02/2016, ovulation: 4/03/2016,\\nterme calculé: 17/11/2016, terme corrigé: 25/11/2016 \\nTabac: non, Alcool: non, Toxicomanie: non, Antécédent de césarienne: non\\nObésité: oui si BMI >= 30; valeur du BMI: 24.4 \\nDépistage diabète gestationnel : 85; OGTT normal\\nEcouvillon vaginal : 31/5: strepto +\\tkiné prénatale :non\\nrisque biologique trisomie 21: 1/1007, risque intégré de Tri 21: 1/4060 risque biologique trisomie 18: <1/10000 Risque NTD: <1/10000'),\n",
       " Document(page_content='Phénotype Rhésus Foetal par PCR: Rh D positif, Chrom Y positif'),\n",
       " Document(page_content='Examen bassin : \\n\\n\\nrésumé de la grossesse:\\nPoids de départ: 61, Taille: 158, soit un BMI à 24.4,\\n{SEROLOGIE POSITIVE pour {HIV|Hépatite B|Hépatite C|@}\\n}Donné Rhogam prophylactique 28 sem, Boostrix injecté vers 24-32 sem, \\n\\nconduite à tenir :\\n \\n{Assurance hospitalisation: non \\n}{Suivi Tabacologue: non\\n}{Reconnaissance anticipée (état civil: Mariée): non faite}')]"
      ]
     },
     "execution_count": 15,
     "metadata": {},
     "output_type": "execute_result"
    }
   ],
   "source": [
    "data[1]"
   ]
  },
  {
   "cell_type": "code",
   "execution_count": null,
   "metadata": {},
   "outputs": [],
   "source": []
  }
 ],
 "metadata": {
  "kernelspec": {
   "display_name": "Python 3",
   "language": "python",
   "name": "python3"
  },
  "language_info": {
   "codemirror_mode": {
    "name": "ipython",
    "version": 3
   },
   "file_extension": ".py",
   "mimetype": "text/x-python",
   "name": "python",
   "nbconvert_exporter": "python",
   "pygments_lexer": "ipython3",
   "version": "3.9.18"
  }
 },
 "nbformat": 4,
 "nbformat_minor": 2
}
