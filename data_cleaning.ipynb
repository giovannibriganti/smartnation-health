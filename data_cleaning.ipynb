{
 "cells": [
  {
   "cell_type": "code",
   "execution_count": 36,
   "metadata": {},
   "outputs": [],
   "source": [
    "from langchain_community.document_loaders import (\n",
    "    PyPDFLoader,\n",
    "    TextLoader,\n",
    "    UnstructuredHTMLLoader,\n",
    "    JSONLoader,\n",
    "    UnstructuredMarkdownLoader,\n",
    ")\n",
    "from langchain.embeddings.sentence_transformer import SentenceTransformerEmbeddings\n",
    "\n",
    "# from langchain_experimental.text_splitter import SemanticChunker, RecursiveCharacterTextSplitter\n",
    "from langchain_openai.embeddings import OpenAIEmbeddings\n",
    "from langchain.text_splitter import RecursiveCharacterTextSplitter\n"
   ]
  },
  {
   "cell_type": "code",
   "execution_count": 47,
   "metadata": {},
   "outputs": [
    {
     "name": "stderr",
     "output_type": "stream",
     "text": [
      "No sentence-transformers model found with name dangvantuan/sentence-camembert-large. Creating a new one with MEAN pooling.\n"
     ]
    },
    {
     "data": {
      "application/vnd.jupyter.widget-view+json": {
       "model_id": "eb91cf3639b9413694920447d6f76097",
       "version_major": 2,
       "version_minor": 0
      },
      "text/plain": [
       "config.json:   0%|          | 0.00/683 [00:00<?, ?B/s]"
      ]
     },
     "metadata": {},
     "output_type": "display_data"
    },
    {
     "data": {
      "application/vnd.jupyter.widget-view+json": {
       "model_id": "ba6362bfdc49444a9271ed494a43b9d6",
       "version_major": 2,
       "version_minor": 0
      },
      "text/plain": [
       "model.safetensors:   0%|          | 0.00/1.35G [00:00<?, ?B/s]"
      ]
     },
     "metadata": {},
     "output_type": "display_data"
    }
   ],
   "source": [
    "def accept_document_return_chunks(document: str):\n",
    "\n",
    "    if document.split(\".\")[-1] == \"pdf\":\n",
    "        loader = PyPDFLoader(document)\n",
    "    elif document.split(\".\")[-1] == \"txt\":\n",
    "        loader = TextLoader(document)\n",
    "    elif document.split(\".\")[-1] == \"json\":\n",
    "        loader = JSONLoader(document)\n",
    "    elif document.split(\".\")[-1] == \"html\":\n",
    "        loader = UnstructuredHTMLLoader(document)\n",
    "    elif document.split(\".\")[-1] == \"md\":\n",
    "        loader = UnstructuredMarkdownLoader(document)\n",
    "    else:\n",
    "        raise ValueError(\"File type not supported\")\n",
    "\n",
    "    pages = loader.load_and_split()\n",
    "\n",
    "    unify_content = \"\"\n",
    "    for page in pages:\n",
    "        unify_content += \"\\n\" + page.page_content\n",
    "\n",
    "    embedder = SentenceTransformerEmbeddings(\n",
    "        model_name=\"dangvantuan/sentence-camembert-large\")\n",
    "\n",
    "    semantic_splitter = SemanticChunker(embedder)\n",
    "\n",
    "    docs = semantic_splitter.create_documents([unify_content])\n",
    "\n",
    "    text_splitter = RecursiveCharacterTextSplitter(\n",
    "        # Set a really small chunk size, just to show.\n",
    "        chunk_size=500,\n",
    "        chunk_overlap=20,\n",
    "        length_function=len,\n",
    "        is_separator_regex=False,\n",
    "    )\n",
    "\n",
    "    docs2 = text_splitter.create_documents([unify_content])\n",
    "\n",
    "    return docs, docs2\n",
    "\n",
    "\n",
    "data = accept_document_return_chunks(\"lettre_1.txt\")"
   ]
  },
  {
   "cell_type": "code",
   "execution_count": 44,
   "metadata": {},
   "outputs": [
    {
     "data": {
      "text/plain": [
       "[Document(page_content='\\nProfession : sans\\nTaille: 158\\nG : 3 P : 2 \\nSérologie :\\n/RAI:\\tRub +; Toxo -(09/16); CMV: +; \\nAg HBs nég/Ac nég/ anti-core nég (04/16);  HbC-(04/16); Syph -(04/16); HIV -(04/16); Chlamydia -;\\nAgglu irr. - (08/16);  \\n\\nMénarche: 12\\nRègles: +- réguliers  \\nAntécédents obstétricaux : 21/03/07: 39w6C/S pour SFA F2810g Alyena AM\\n2010: accht eutocique \\nAntécédents médicaux : \\ngastrite\\nRisques : 1 Césarienne dans antécédents\\nFibrinogène: 2.86 ( 12/08/16) \\n\\nGrossesses antérieures : \\n\\nGrossesse n° 1 \\tsuivie par: Dr. Alain Claudot \\taccouchée par: Dr. A. Loos  \\nTerme prévu: 22/03/2007 \\tFin de grossesse le 21/03/2007 à 39 s.'),\n",
       " Document(page_content=\"6 j. Résumé de la grossesse:\\nrhogam 10/11 sur métro, refait le 5/1, Anémie sidéroprive, traitée par supplément martial  \\nAccouchement: Présentation: céphalique \\nMotif d'entrée: Rupture prématurée des membranes avec entrée en travail spontané dans les 24 heures  \\nTravail: optimalisé en salle de travail par perfusion de syntocinon® rupture spontanée des membranes laissant s'écouler un liquide amniotique clair, à 1 cm  Anesthésie: 8h45: Péridurale de confort Médications: Buscopan !!!réaction +++\\nPérinée: Intact \\nSuites de couches:\\nPathologie post-partum: Infection urinaire à E Coli, trt Clamoxyl, anémie Hb 11.2 \\nGamma-globulines: reçues \\nAllaitement: maternel \\nEnfant(s):\\n• Alyena AVCI Sexe: Féminin\\n Monitoring foetal: Cl 3, UCL Terminaison: Césarienne en urgence pour souffrance foetale, Cordon: Bretelle, Délivrance: Délivrance manuelle, Révision utérine,  \\npoids: 2810, Taille: 49 PC: 33  Apgar: 9/10/10\\nGroupe sanguin: Rhésus D positif\\nPathologie néo-natale: aucune apparente\")]"
      ]
     },
     "execution_count": 44,
     "metadata": {},
     "output_type": "execute_result"
    }
   ],
   "source": [
    "data[0]"
   ]
  },
  {
   "cell_type": "code",
   "execution_count": 45,
   "metadata": {},
   "outputs": [
    {
     "data": {
      "text/plain": [
       "[Document(page_content='Profession : sans\\nTaille: 158\\nG : 3 P : 2 \\nSérologie :\\n/RAI:\\tRub +; Toxo -(09/16); CMV: +; \\nAg HBs nég/Ac nég/ anti-core nég (04/16);  HbC-(04/16); Syph -(04/16); HIV -(04/16); Chlamydia -;\\nAgglu irr. - (08/16);  \\n\\nMénarche: 12\\nRègles: +- réguliers  \\nAntécédents obstétricaux : 21/03/07: 39w6C/S pour SFA F2810g Alyena AM\\n2010: accht eutocique \\nAntécédents médicaux : \\ngastrite\\nRisques : 1 Césarienne dans antécédents\\nFibrinogène: 2.86 ( 12/08/16) \\n\\nGrossesses antérieures :'),\n",
       " Document(page_content=\"Grossesse n° 1 \\tsuivie par: Dr. Alain Claudot \\taccouchée par: Dr. A. Loos  \\nTerme prévu: 22/03/2007 \\tFin de grossesse le 21/03/2007 à 39 s. 6 j. \\nRésumé de la grossesse:\\nrhogam 10/11 sur métro, refait le 5/1, Anémie sidéroprive, traitée par supplément martial  \\nAccouchement: Présentation: céphalique \\nMotif d'entrée: Rupture prématurée des membranes avec entrée en travail spontané dans les 24 heures\"),\n",
       " Document(page_content=\"Travail: optimalisé en salle de travail par perfusion de syntocinon® rupture spontanée des membranes laissant s'écouler un liquide amniotique clair, à 1 cm  Anesthésie: 8h45: Péridurale de confort Médications: Buscopan !!!réaction +++\\nPérinée: Intact \\nSuites de couches:\\nPathologie post-partum: Infection urinaire à E Coli, trt Clamoxyl, anémie Hb 11.2 \\nGamma-globulines: reçues \\nAllaitement: maternel \\nEnfant(s):\\n• Alyena AVCI Sexe: Féminin\"),\n",
       " Document(page_content='Monitoring foetal: Cl 3, UCL Terminaison: Césarienne en urgence pour souffrance foetale, Cordon: Bretelle, Délivrance: Délivrance manuelle, Révision utérine,  \\npoids: 2810, Taille: 49 PC: 33  Apgar: 9/10/10\\nGroupe sanguin: Rhésus D positif\\nPathologie néo-natale: aucune apparente')]"
      ]
     },
     "execution_count": 45,
     "metadata": {},
     "output_type": "execute_result"
    }
   ],
   "source": [
    "data[1]"
   ]
  },
  {
   "cell_type": "code",
   "execution_count": 19,
   "metadata": {},
   "outputs": [
    {
     "data": {
      "application/vnd.jupyter.widget-view+json": {
       "model_id": "2eeba686d1ed43e3a8910d7e23ae10ad",
       "version_major": 2,
       "version_minor": 0
      },
      "text/plain": [
       "modules.json:   0%|          | 0.00/349 [00:00<?, ?B/s]"
      ]
     },
     "metadata": {},
     "output_type": "display_data"
    },
    {
     "data": {
      "application/vnd.jupyter.widget-view+json": {
       "model_id": "cc6190a37eb644beab21a1569aa9b54b",
       "version_major": 2,
       "version_minor": 0
      },
      "text/plain": [
       "config_sentence_transformers.json:   0%|          | 0.00/116 [00:00<?, ?B/s]"
      ]
     },
     "metadata": {},
     "output_type": "display_data"
    },
    {
     "data": {
      "application/vnd.jupyter.widget-view+json": {
       "model_id": "a71584d9465f42caa915cd4177d148c4",
       "version_major": 2,
       "version_minor": 0
      },
      "text/plain": [
       "README.md:   0%|          | 0.00/10.7k [00:00<?, ?B/s]"
      ]
     },
     "metadata": {},
     "output_type": "display_data"
    },
    {
     "data": {
      "application/vnd.jupyter.widget-view+json": {
       "model_id": "c9c5dea4893e4e1cb20469083f95032e",
       "version_major": 2,
       "version_minor": 0
      },
      "text/plain": [
       "sentence_bert_config.json:   0%|          | 0.00/53.0 [00:00<?, ?B/s]"
      ]
     },
     "metadata": {},
     "output_type": "display_data"
    },
    {
     "data": {
      "application/vnd.jupyter.widget-view+json": {
       "model_id": "4d0cc0fcde47474fb6e8004d9f9f36a3",
       "version_major": 2,
       "version_minor": 0
      },
      "text/plain": [
       "config.json:   0%|          | 0.00/612 [00:00<?, ?B/s]"
      ]
     },
     "metadata": {},
     "output_type": "display_data"
    },
    {
     "data": {
      "application/vnd.jupyter.widget-view+json": {
       "model_id": "433656dc6bbc48d597957a46489fccc0",
       "version_major": 2,
       "version_minor": 0
      },
      "text/plain": [
       "pytorch_model.bin:   0%|          | 0.00/90.9M [00:00<?, ?B/s]"
      ]
     },
     "metadata": {},
     "output_type": "display_data"
    },
    {
     "data": {
      "application/vnd.jupyter.widget-view+json": {
       "model_id": "5d2d51cc9145424d8755c9d19cb25d19",
       "version_major": 2,
       "version_minor": 0
      },
      "text/plain": [
       "tokenizer_config.json:   0%|          | 0.00/350 [00:00<?, ?B/s]"
      ]
     },
     "metadata": {},
     "output_type": "display_data"
    },
    {
     "data": {
      "application/vnd.jupyter.widget-view+json": {
       "model_id": "408057c2ca094d4fb3e4249962dbd387",
       "version_major": 2,
       "version_minor": 0
      },
      "text/plain": [
       "vocab.txt:   0%|          | 0.00/232k [00:00<?, ?B/s]"
      ]
     },
     "metadata": {},
     "output_type": "display_data"
    },
    {
     "data": {
      "application/vnd.jupyter.widget-view+json": {
       "model_id": "5aab27310d8246ab80800c9030d351da",
       "version_major": 2,
       "version_minor": 0
      },
      "text/plain": [
       "tokenizer.json:   0%|          | 0.00/466k [00:00<?, ?B/s]"
      ]
     },
     "metadata": {},
     "output_type": "display_data"
    },
    {
     "data": {
      "application/vnd.jupyter.widget-view+json": {
       "model_id": "299b88833cb4409bb9cdd520c7332ebc",
       "version_major": 2,
       "version_minor": 0
      },
      "text/plain": [
       "special_tokens_map.json:   0%|          | 0.00/112 [00:00<?, ?B/s]"
      ]
     },
     "metadata": {},
     "output_type": "display_data"
    },
    {
     "data": {
      "application/vnd.jupyter.widget-view+json": {
       "model_id": "b34c132ea8dc48fd908930370bda9fb9",
       "version_major": 2,
       "version_minor": 0
      },
      "text/plain": [
       "1_Pooling/config.json:   0%|          | 0.00/190 [00:00<?, ?B/s]"
      ]
     },
     "metadata": {},
     "output_type": "display_data"
    },
    {
     "name": "stdout",
     "output_type": "stream",
     "text": [
      "\n",
      "Profession : sans\n",
      "Taille: 158\n",
      "G : 3 P : 2 \n",
      "Sérologie :\n",
      "/RAI:\tRub +; Toxo -(09/16); CMV: +; \n",
      "Ag HBs nég/Ac nég/ anti-core nég (04/16);  HbC-(04/16); Syph -(04/16); HIV -(04/16); Chlamydia -;\n",
      "Agglu irr. - (08/16);  \n",
      "\n",
      "Ménarche: 12\n",
      "Règles: +- réguliers  \n",
      "Antécédents obstétricaux : 21/03/07: 39w6C/S pour SFA F2810g Alyena AM\n",
      "2010: accht eutocique \n",
      "Antécédents médicaux : \n",
      "gastrite\n",
      "Risques : 1 Césarienne dans antécédents\n",
      "Fibrinogène: 2.86 ( 12/08/16) \n",
      "\n",
      "Grossesses antérieures : \n",
      "\n",
      "Grossesse n° 1 \tsuivie par: Dr. Alain Claudot \taccouchée par: Dr. A. Loos  \n",
      "Terme prévu: 22/03/2007 \tFin de grossesse le 21/03/2007 à 39 s.\n"
     ]
    }
   ],
   "source": [
    "# recursive_splitter = chunker.recursive_splitter(chunk_size=512,overlap=20)\n",
    "\n",
    "# For this method we need to define an embedder\n",
    "embedder = SentenceTransformerEmbeddings(model_name=\"all-MiniLM-L6-v2\")\n",
    "semantic_splitter = semantic_chunker(embedder)\n",
    "# # semantic_splitter_openai = semantic_chunker(OpenAIEmbeddings())\n",
    "\n",
    "# text_splitter = SemanticChunker(OpenAIEmbeddings())\n",
    "\n",
    "docs = semantic_splitter.create_documents([unify_content])\n",
    "print(docs[0].page_content)"
   ]
  },
  {
   "cell_type": "code",
   "execution_count": 21,
   "metadata": {},
   "outputs": [
    {
     "data": {
      "text/plain": [
       "2"
      ]
     },
     "execution_count": 21,
     "metadata": {},
     "output_type": "execute_result"
    }
   ],
   "source": [
    "len(docs)"
   ]
  },
  {
   "cell_type": "code",
   "execution_count": 23,
   "metadata": {},
   "outputs": [
    {
     "data": {
      "text/plain": [
       "Document(page_content='\\nProfession : sans\\nTaille: 158\\nG : 3 P : 2 \\nSérologie :\\n/RAI:\\tRub +; Toxo -(09/16); CMV: +; \\nAg HBs nég/Ac nég/ anti-core nég (04/16);  HbC-(04/16); Syph -(04/16); HIV -(04/16); Chlamydia -;\\nAgglu irr. - (08/16);  \\n\\nMénarche: 12\\nRègles: +- réguliers  \\nAntécédents obstétricaux : 21/03/07: 39w6C/S pour SFA F2810g Alyena AM\\n2010: accht eutocique \\nAntécédents médicaux : \\ngastrite\\nRisques : 1 Césarienne dans antécédents\\nFibrinogène: 2.86 ( 12/08/16) \\n\\nGrossesses antérieures : \\n\\nGrossesse n° 1 \\tsuivie par: Dr. Alain Claudot \\taccouchée par: Dr. A. Loos  \\nTerme prévu: 22/03/2007 \\tFin de grossesse le 21/03/2007 à 39 s.')"
      ]
     },
     "execution_count": 23,
     "metadata": {},
     "output_type": "execute_result"
    }
   ],
   "source": [
    "docs[0]"
   ]
  },
  {
   "cell_type": "code",
   "execution_count": 24,
   "metadata": {},
   "outputs": [
    {
     "data": {
      "text/plain": [
       "Document(page_content=\"6 j. Résumé de la grossesse:\\nrhogam 10/11 sur métro, refait le 5/1, Anémie sidéroprive, traitée par supplément martial  \\nAccouchement: Présentation: céphalique \\nMotif d'entrée: Rupture prématurée des membranes avec entrée en travail spontané dans les 24 heures  \\nTravail: optimalisé en salle de travail par perfusion de syntocinon® rupture spontanée des membranes laissant s'écouler un liquide amniotique clair, à 1 cm  Anesthésie: 8h45: Péridurale de confort Médications: Buscopan !!!réaction +++\\nPérinée: Intact \\nSuites de couches:\\nPathologie post-partum: Infection urinaire à E Coli, trt Clamoxyl, anémie Hb 11.2 \\nGamma-globulines: reçues \\nAllaitement: maternel \\nEnfant(s):\\n• Alyena AVCI Sexe: Féminin\\n Monitoring foetal: Cl 3, UCL Terminaison: Césarienne en urgence pour souffrance foetale, Cordon: Bretelle, Délivrance: Délivrance manuelle, Révision utérine,  \\npoids: 2810, Taille: 49 PC: 33  Apgar: 9/10/10\\nGroupe sanguin: Rhésus D positif\\nPathologie néo-natale: aucune apparente\")"
      ]
     },
     "execution_count": 24,
     "metadata": {},
     "output_type": "execute_result"
    }
   ],
   "source": [
    "docs[1]"
   ]
  },
  {
   "cell_type": "code",
   "execution_count": null,
   "metadata": {},
   "outputs": [],
   "source": []
  }
 ],
 "metadata": {
  "kernelspec": {
   "display_name": "Python 3",
   "language": "python",
   "name": "python3"
  },
  "language_info": {
   "codemirror_mode": {
    "name": "ipython",
    "version": 3
   },
   "file_extension": ".py",
   "mimetype": "text/x-python",
   "name": "python",
   "nbconvert_exporter": "python",
   "pygments_lexer": "ipython3",
   "version": "3.9.18"
  }
 },
 "nbformat": 4,
 "nbformat_minor": 2
}
